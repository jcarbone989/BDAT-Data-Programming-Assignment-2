{
 "cells": [
  {
   "cell_type": "markdown",
   "metadata": {},
   "source": [
    "# Assignment 2 Variables, Conditions and Functions "
   ]
  },
  {
   "cell_type": "markdown",
   "metadata": {},
   "source": [
    "## Chapter 2"
   ]
  },
  {
   "cell_type": "markdown",
   "metadata": {},
   "source": [
    "### Exercise 2: Write a program that uses input to prompt a user for their name and then welcomes them."
   ]
  },
  {
   "cell_type": "code",
   "execution_count": 1,
   "metadata": {},
   "outputs": [
    {
     "name": "stdout",
     "output_type": "stream",
     "text": [
      "Name: \n",
      "Isai\n",
      "Welcome Isai\n"
     ]
    }
   ],
   "source": [
    "print(\"Name: \")\n",
    "name = input()\n",
    "print(\"Welcome \"+name)\n"
   ]
  },
  {
   "cell_type": "markdown",
   "metadata": {},
   "source": [
    "### Exercise 3: Write a program to prompt the user for hours and rate per hour to compute gross pay."
   ]
  },
  {
   "cell_type": "code",
   "execution_count": 3,
   "metadata": {},
   "outputs": [
    {
     "name": "stdout",
     "output_type": "stream",
     "text": [
      "Hours:\n",
      "10\n",
      "Rate per hour:\n",
      "20\n",
      "Gross pay:  200.0\n"
     ]
    }
   ],
   "source": [
    "print(\"Hours:\")\n",
    "h = float(input())\n",
    "print(\"Rate per hour:\")\n",
    "r = float(input())\n",
    "g=h*r\n",
    "print(\"Gross pay: \", g)\n",
    "\n"
   ]
  },
  {
   "cell_type": "markdown",
   "metadata": {},
   "source": [
    "### Exercise 4: Assume that we execute the following assignment statements:"
   ]
  },
  {
   "cell_type": "code",
   "execution_count": 4,
   "metadata": {},
   "outputs": [
    {
     "name": "stdout",
     "output_type": "stream",
     "text": [
      "1.-   8\n",
      "2.-   8.5\n",
      "3.-   4.0\n",
      "4.-   11\n"
     ]
    }
   ],
   "source": [
    " width=17\n",
    " height=12.0\n",
    "\n",
    "print(\"1.-  \",width//2)\n",
    "print(\"2.-  \",width/2.0)\n",
    "print(\"3.-  \",height/3)\n",
    "print(\"4.-  \",1+2*5)\n",
    "\n",
    "\n",
    "\n"
   ]
  },
  {
   "cell_type": "markdown",
   "metadata": {},
   "source": [
    "### Exercise 5: Write a program which prompts the user for a Celsius temperature, convert the temperature to Fahrenheit, and print out the\n",
    "### converted temperature."
   ]
  },
  {
   "cell_type": "code",
   "execution_count": 5,
   "metadata": {},
   "outputs": [
    {
     "name": "stdout",
     "output_type": "stream",
     "text": [
      "Celcius: \n",
      "60\n",
      "Farenheit: 140.0\n"
     ]
    }
   ],
   "source": [
    "print(\"Celcius: \")\n",
    "c = float(input())\n",
    "#f=c*1.8+32\n",
    "print(\"Farenheit:\", c*1.8+32)\n",
    "\n"
   ]
  },
  {
   "cell_type": "markdown",
   "metadata": {},
   "source": [
    "## Chapter 3"
   ]
  },
  {
   "cell_type": "markdown",
   "metadata": {},
   "source": [
    "### Exercise 1: Rewrite your pay computation to give the employee 1.5 times the hourly rate for hours worked above 40 hours."
   ]
  },
  {
   "cell_type": "code",
   "execution_count": 1,
   "metadata": {},
   "outputs": [
    {
     "name": "stdout",
     "output_type": "stream",
     "text": [
      "Hours:\n",
      "80\n",
      "Rate per hour:\n",
      "10\n",
      "Gross pay:  1000.0\n"
     ]
    }
   ],
   "source": [
    "print(\"Hours:\")\n",
    "h = float(input())\n",
    "print(\"Rate per hour:\")\n",
    "r = float(input())\n",
    "\n",
    "if h < 40:\n",
    "    g=h*r\n",
    "    print(\"Gross pay: \", g)\n",
    "else:\n",
    "    #g=(40*r)+(h-40)*r\n",
    "    g=(40*r)+(h-40)*1.5*r\n",
    "    print(\"Gross pay: \", g)"
   ]
  },
  {
   "cell_type": "markdown",
   "metadata": {},
   "source": [
    "### Exercise 2: Rewrite your pay program using try and except so that your program handles non-numeric input gracefully by printing a message and exiting the program. The following shows two executions of the program:"
   ]
  },
  {
   "cell_type": "code",
   "execution_count": null,
   "metadata": {},
   "outputs": [
    {
     "name": "stdout",
     "output_type": "stream",
     "text": [
      "Hours:\n"
     ]
    }
   ],
   "source": [
    "try:\n",
    "    print(\"Hours:\")\n",
    "    h = float(input())\n",
    "    print(\"Rate per hour:\")\n",
    "    r = float(input())\n",
    "    g=h*r\n",
    "    print(\"Gross pay: \", g)\n",
    "except:\n",
    "    print(\"Please enter numeric values\")"
   ]
  },
  {
   "cell_type": "markdown",
   "metadata": {},
   "source": [
    "### Exercise 3: Write a program to prompt for a score between 0.0 and 1.0. If the score is out of range, print an error message. If the score is between 0.0 and 1.0, print a grade using the following table:"
   ]
  },
  {
   "cell_type": "code",
   "execution_count": 8,
   "metadata": {},
   "outputs": [
    {
     "name": "stdout",
     "output_type": "stream",
     "text": [
      "Enter Score\n",
      "-1\n",
      "Bad score\n"
     ]
    }
   ],
   "source": [
    "print(\"Enter Score\")\n",
    "try:\n",
    "    score = float(input())\n",
    "    if score>1:\n",
    "        print(\"Bad score\")\n",
    "    elif score>=0.9:\n",
    "        print(\"A\")    \n",
    "    elif score>=0.8:\n",
    "        print(\"B\")    \n",
    "    elif score>=0.7:\n",
    "        print(\"C\")    \n",
    "    elif score>=0.6:\n",
    "        print(\"D\")    \n",
    "    elif score<0.6 and score >= 0:\n",
    "        print(\"F\")  \n",
    "    elif score<0:\n",
    "        print(\"Bad score\")    \n",
    "except:\n",
    "    print(\"Bad score\")    \n",
    "    \n",
    "    "
   ]
  },
  {
   "cell_type": "markdown",
   "metadata": {},
   "source": [
    "## Chapter 4"
   ]
  },
  {
   "cell_type": "markdown",
   "metadata": {},
   "source": [
    "### Exercise 5: What will the following Python program print out? (See textbook page 54)\n",
    "### def fred():\n",
    "###     print(\"Zap\")\n",
    "### def jane():\n",
    "###     print(\"ABC\")"
   ]
  },
  {
   "cell_type": "code",
   "execution_count": 1,
   "metadata": {},
   "outputs": [
    {
     "name": "stdout",
     "output_type": "stream",
     "text": [
      "ABC\n",
      "Zap\n",
      "ABC\n"
     ]
    }
   ],
   "source": [
    "def fred():\n",
    "    print(\"Zap\")\n",
    "    \n",
    "def jane():\n",
    "    print(\"ABC\")\n",
    "jane()\n",
    "fred()\n",
    "jane()"
   ]
  },
  {
   "cell_type": "markdown",
   "metadata": {},
   "source": [
    "### Exercise 6: Rewrite your pay computation with time-and-a-half for over-time and create a function called computepay which takes two parameters (hours and rate)."
   ]
  },
  {
   "cell_type": "code",
   "execution_count": 2,
   "metadata": {},
   "outputs": [
    {
     "name": "stdout",
     "output_type": "stream",
     "text": [
      "Hours:\n",
      "6\n",
      "Rate per hour:\n",
      "7\n",
      "Gross pay:  42.0\n"
     ]
    }
   ],
   "source": [
    "def computepay(h,r):\n",
    "    if h < 40:\n",
    "        g=h*r\n",
    "        print(\"Gross pay: \", g)\n",
    "    else:\n",
    "        #g=(40*r)+(h-40)*r\n",
    "        g=(40*r)+(h-40)*1.5*r\n",
    "        print(\"Gross pay: \", g)\n",
    "        \n",
    "print(\"Hours:\")\n",
    "h = float(input())\n",
    "print(\"Rate per hour:\")\n",
    "r = float(input())\n",
    "computepay(h,r)        "
   ]
  },
  {
   "cell_type": "markdown",
   "metadata": {},
   "source": [
    "### Exercise 7: Rewrite the grade program from the previous chapter using a function called computegrade that takes a score as its parameter and returns a grade as a string."
   ]
  },
  {
   "cell_type": "code",
   "execution_count": null,
   "metadata": {},
   "outputs": [],
   "source": [
    "def computepay(s):\n",
    "        if s>1:\n",
    "            print(\"Bad score\")\n",
    "        elif s>=0.9:\n",
    "            print(\"A\")    \n",
    "        elif s>=0.8:\n",
    "            print(\"B\")    \n",
    "        elif s>=0.7:\n",
    "            print(\"C\")    \n",
    "        elif s>=0.6:\n",
    "            print(\"D\")    \n",
    "        elif score<0.6 and score >= 0:\n",
    "            print(\"F\")  \n",
    "        elif score<0:\n",
    "            print(\"Bad score\")    \n",
    "\n",
    "            \n",
    "print(\"Enter Score\")\n",
    "try:\n",
    "    score = float(input())\n",
    "    computepay(score)\n",
    "except:\n",
    "    print(\"Bad score\")    "
   ]
  },
  {
   "cell_type": "code",
   "execution_count": null,
   "metadata": {},
   "outputs": [],
   "source": []
  },
  {
   "cell_type": "code",
   "execution_count": null,
   "metadata": {},
   "outputs": [],
   "source": []
  }
 ],
 "metadata": {
  "kernelspec": {
   "display_name": "Python 3",
   "language": "python",
   "name": "python3"
  },
  "language_info": {
   "codemirror_mode": {
    "name": "ipython",
    "version": 3
   },
   "file_extension": ".py",
   "mimetype": "text/x-python",
   "name": "python",
   "nbconvert_exporter": "python",
   "pygments_lexer": "ipython3",
   "version": "3.7.4"
  }
 },
 "nbformat": 4,
 "nbformat_minor": 2
}
